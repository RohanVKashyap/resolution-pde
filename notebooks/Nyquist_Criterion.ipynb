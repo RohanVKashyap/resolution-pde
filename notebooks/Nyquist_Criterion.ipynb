{
  "cells": [
    {
      "cell_type": "markdown",
      "metadata": {
        "id": "2FwcBR6YfUiv"
      },
      "source": [
        "## Data"
      ]
    },
    {
      "cell_type": "code",
      "execution_count": null,
      "metadata": {
        "colab": {
          "base_uri": "https://localhost:8080/"
        },
        "collapsed": true,
        "id": "dpsiV2ULfTsl",
        "outputId": "8f709a09-4318-48dc-aeb6-eb2f74621779"
      },
      "outputs": [],
      "source": [
        "!git clone https://github.com/NeuralOperator/neuraloperator\n",
        "%cd neuraloperator\n",
        "!pip install -e .\n",
        "!pip install -r requirements.txt"
      ]
    },
    {
      "cell_type": "code",
      "execution_count": 1,
      "metadata": {
        "id": "h4yGXDIkffaE"
      },
      "outputs": [],
      "source": [
        "import torch\n",
        "import torch.nn as nn\n",
        "from torch.nn import functional as F\n",
        "\n",
        "import neuralop\n",
        "import numpy as np\n",
        "import matplotlib.pyplot as plt\n",
        "from neuralop.data.datasets import load_darcy_flow_small\n",
        "from neuralop.layers.embeddings import GridEmbedding2D\n",
        "\n",
        "import sys\n",
        "from neuralop.models import FNO\n",
        "from neuralop import Trainer\n",
        "from neuralop.training import AdamW\n",
        "from neuralop.data.datasets import load_darcy_flow_small\n",
        "from neuralop.utils import count_model_params\n",
        "from neuralop import LpLoss, H1Loss\n",
        "\n",
        "import wandb"
      ]
    },
    {
      "cell_type": "code",
      "execution_count": 2,
      "metadata": {
        "colab": {
          "base_uri": "https://localhost:8080/"
        },
        "id": "9R_ADEBTghgg",
        "outputId": "712aeef8-2136-44e1-9381-ef8973075ae6"
      },
      "outputs": [
        {
          "name": "stdout",
          "output_type": "stream",
          "text": [
            "cpu\n"
          ]
        }
      ],
      "source": [
        "device = torch.device('cuda:0' if torch.cuda.is_available() else 'cpu')\n",
        "print(device)"
      ]
    },
    {
      "cell_type": "code",
      "execution_count": 3,
      "metadata": {
        "colab": {
          "base_uri": "https://localhost:8080/"
        },
        "collapsed": true,
        "id": "v38zgyXQfjtl",
        "outputId": "c17d4684-89d6-4d7a-825a-a6a6473f0ea5"
      },
      "outputs": [
        {
          "name": "stdout",
          "output_type": "stream",
          "text": [
            "Loading test db for resolution 16 with 100 samples \n",
            "Loading test db for resolution 32 with 50 samples \n"
          ]
        }
      ],
      "source": [
        "train_loader, test_loader, data_processor = load_darcy_flow_small(n_train=1000, batch_size=32,\n",
        "                                             test_resolutions=[16, 32], n_tests=[100, 50],\n",
        "                                             test_batch_sizes=[32, 32],)\n",
        "data_processor = data_processor.to(device)"
      ]
    },
    {
      "cell_type": "code",
      "execution_count": 4,
      "metadata": {
        "id": "31h9_2ztlPTa"
      },
      "outputs": [],
      "source": [
        "def prepare_data(data_loader):\n",
        "    x, y = zip(*[batch.values() for batch in data_loader])\n",
        "    x = torch.cat(x, dim=0)\n",
        "    y = torch.cat(y, dim=0)\n",
        "\n",
        "    positional_embedding = GridEmbedding2D(in_channels=1)\n",
        "    x = torch.stack(list(map(lambda t: positional_embedding(t.unsqueeze(0)).squeeze(0), x))).permute(0, 2, 3, 1)\n",
        "    y = y.permute(0, 2, 3, 1)\n",
        "\n",
        "    return x, y"
      ]
    },
    {
      "cell_type": "code",
      "execution_count": 5,
      "metadata": {
        "id": "E_vUU_v1lr18"
      },
      "outputs": [],
      "source": [
        "x_train, y_train = prepare_data(train_loader)\n",
        "x_test, y_test = prepare_data(test_loader[16])"
      ]
    },
    {
      "cell_type": "code",
      "execution_count": 6,
      "metadata": {
        "colab": {
          "base_uri": "https://localhost:8080/"
        },
        "id": "PsiONKMsmFJt",
        "outputId": "aa14bef1-58e0-48fd-a3d6-a594b9e19fa1"
      },
      "outputs": [
        {
          "name": "stdout",
          "output_type": "stream",
          "text": [
            "torch.Size([1000, 16, 16, 3]) torch.Size([1000, 16, 16, 1])\n",
            "torch.Size([50, 16, 16, 3]) torch.Size([50, 16, 16, 1])\n"
          ]
        }
      ],
      "source": [
        "print(x_train.shape, y_train.shape)\n",
        "print(x_test.shape, y_test.shape)"
      ]
    },
    {
      "cell_type": "code",
      "execution_count": 23,
      "metadata": {},
      "outputs": [
        {
          "data": {
            "image/png": "[encoded data removed]",
            "text/plain": [
              "<Figure size 640x480 with 1 Axes>"
            ]
          },
          "metadata": {},
          "output_type": "display_data"
        }
      ],
      "source": [
        "plt.imshow(x_train[0])\n",
        "plt.show()"
      ]
    },
    {
      "cell_type": "code",
      "execution_count": 24,
      "metadata": {},
      "outputs": [
        {
          "data": {
            "image/png": "[encoded data removed]",
            "text/plain": [
              "<Figure size 640x480 with 1 Axes>"
            ]
          },
          "metadata": {},
          "output_type": "display_data"
        }
      ],
      "source": [
        "plt.imshow(y_train[0])\n",
        "plt.show()"
      ]
    },
    {
      "cell_type": "code",
      "execution_count": null,
      "metadata": {
        "id": "lrRkG_hsjGhX"
      },
      "outputs": [],
      "source": [
        "from torch.utils.data import Dataset, DataLoader\n",
        "\n",
        "class create_data(Dataset):\n",
        "    def __init__(self, x_mesh, y):\n",
        "        self.x_mesh = x_mesh\n",
        "        self.y = y\n",
        "\n",
        "    def __len__(self):\n",
        "        return len(self.x_mesh)\n",
        "\n",
        "    def __getitem__(self, idx):\n",
        "        return self.x_mesh[idx], self.y[idx]\n",
        "\n",
        "train_dataset = create_data(x_train, y_train)\n",
        "test_dataset = create_data(x_test, y_test)\n",
        "\n",
        "train_dataloader = DataLoader(dataset=train_dataset, batch_size=32, shuffle = False)\n",
        "test_dataloader = DataLoader(dataset=test_dataset, batch_size=32, shuffle = False)\n",
        "print(len(train_dataloader), len(test_dataloader))"
      ]
    },
    {
      "cell_type": "markdown",
      "metadata": {
        "id": "kTfhcyKvszj0"
      },
      "source": [
        "## Fourier Neural Operator"
      ]
    },
    {
      "cell_type": "code",
      "execution_count": null,
      "metadata": {
        "id": "x8mZ3TQoNubo"
      },
      "outputs": [],
      "source": [
        "import torch\n",
        "import torch.nn as nn\n",
        "from torch.nn import functional as F\n",
        "\n",
        "import numpy as np"
      ]
    },
    {
      "cell_type": "code",
      "execution_count": null,
      "metadata": {
        "id": "55iIX69Ks4uE"
      },
      "outputs": [],
      "source": [
        "class SpectralConv2d(nn.Module):\n",
        "    def __init__(self, in_channels, out_channels, modes1, modes2):\n",
        "        super().__init__()\n",
        "        self.in_channels = in_channels\n",
        "        self.out_channels = out_channels\n",
        "        self.modes1 = modes1               # Number of Fourier modes to multiply, at most floor(N/2) + 1\n",
        "        self.modes2 = modes2\n",
        "\n",
        "        self.scale = (1 / (in_channels * out_channels))\n",
        "        self.weights1 = nn.Parameter(self.scale * torch.rand(in_channels, out_channels,\n",
        "                                                             self.modes1, self.modes2, dtype = torch.cfloat))\n",
        "        self.weights2 = nn.Parameter(self.scale * torch.randn(in_channels, out_channels,\n",
        "                                                              self.modes1, self.modes2, dtype = torch.cfloat))\n",
        "\n",
        "    def complmul_2d(self, input, weights):\n",
        "        # (batch, in_channel, x,y ), (in_channel, out_channel, x,y) -> (batch, out_channel, x,y)\n",
        "        return torch.einsum('bixy, ioxy -> boxy', input, weights)\n",
        "\n",
        "    def forward(self, x):\n",
        "        batch_size = x.shape[0]\n",
        "        x_ft = torch.fft.rfft2(x)\n",
        "\n",
        "        # Multiply relevant Fourier modes\n",
        "        out_ft = torch.zeros(batch_size, self.out_channels,\n",
        "                             x.size(-2), x.size(-1)//2 + 1, dtype = torch.cfloat, device = x.device)\n",
        "\n",
        "        out_ft[:, :, :self.modes1, :self.modes2] = self.complmul_2d(x_ft[:, :, :self.modes1, :self.modes2],\n",
        "                                                                   self.weights1)\n",
        "\n",
        "        out_ft[:, :, -self.modes1:, -self.modes2:] = self.complmul_2d(x_ft[:, :, -self.modes1:, -self.modes2:],\n",
        "                                                                   self.weights2)\n",
        "\n",
        "        x = torch.fft.irfft2(out_ft, s = (x.size(-2), x.size(-1)))\n",
        "        return x"
      ]
    },
    {
      "cell_type": "code",
      "execution_count": null,
      "metadata": {
        "id": "XVFoOqGU6o5w"
      },
      "outputs": [],
      "source": [
        "class MLP2d(nn.Module):\n",
        "    def __init__(self, in_channels, out_channels, mid_channels):\n",
        "        super().__init__()\n",
        "        self.mlp1 = nn.Conv2d(in_channels, mid_channels, 1)\n",
        "        self.mlp2 = nn.Conv2d(mid_channels, out_channels, 1)\n",
        "\n",
        "    def forward(self, x):\n",
        "        x = self.mlp1(x)\n",
        "        x = F.gelu(x)\n",
        "        x = self.mlp2(x)\n",
        "        return x"
      ]
    },
    {
      "cell_type": "code",
      "execution_count": null,
      "metadata": {
        "id": "AE9s_P1uI1dP"
      },
      "outputs": [],
      "source": [
        "class FNOBlock2d(nn.Module):\n",
        "    def __init__(self, width, modes1, modes2, add_mlp=False):\n",
        "       super(FNOBlock2d, self).__init__()\n",
        "       self.width = width\n",
        "       self.modes1 = modes1\n",
        "       self.modes2 = modes2\n",
        "\n",
        "       self.conv = SpectralConv2d(self.width, self.width, self.modes1, self.modes2)\n",
        "       self.W = nn.Conv2d(self.width, self.width, 1)\n",
        "\n",
        "       # self.activation = nn.ReLU()\n",
        "\n",
        "       self.add_mlp = add_mlp\n",
        "       if add_mlp:\n",
        "          self.mlp = MLP2d(self.width, self.width, self.width)\n",
        "\n",
        "    def forward(self, x):\n",
        "        x1 = self.conv(x)\n",
        "        if self.add_mlp:\n",
        "            x1 = self.mlp(x)\n",
        "        x2 = self.W(x)\n",
        "        return x1 + x2"
      ]
    },
    {
      "cell_type": "code",
      "execution_count": 25,
      "metadata": {
        "id": "n4vbnenUJ_sa"
      },
      "outputs": [],
      "source": [
        "matrix = [[0, 0, 1, 1, 1],\n",
        "          [0, 0, 1, 1, 1],\n",
        "          [1, 1, 0, 0, 0],\n",
        "          [1, 1, 0, 0, 0],\n",
        "          [1, 1, 0, 0, 0]]\n",
        "\n",
        "def irreducible(matrix):\n",
        "    adjList = defaultdict(list)\n",
        "\n",
        "    for r in range(len(matrix)):\n",
        "      for c in range(len(matrix[0])):\n",
        "            if matrix[r][c] == 1:\n",
        "                adjList[r].append(c)\n",
        "\n",
        "    n = len(matrix)\n",
        "\n",
        "    for start in range(n):\n",
        "        visit = set()\n",
        "        def dfs(node):\n",
        "            visit.add(node)\n",
        "\n",
        "            for neighbour in adjList[node]:\n",
        "                if neighbour not in visit:\n",
        "                    dfs(neighbour)\n",
        "\n",
        "        dfs(start)\n",
        "\n",
        "        if len(visit) < n:\n",
        "            return False\n",
        "\n",
        "    return True"
      ]
    },
    {
      "cell_type": "code",
      "execution_count": 26,
      "metadata": {
        "colab": {
          "base_uri": "https://localhost:8080/"
        },
        "id": "TWjOPn4PRiU7",
        "outputId": "dd7ff25d-82c3-41af-adb3-2ead8ce91c47"
      },
      "outputs": [
        {
          "data": {
            "text/plain": [
              "True"
            ]
          },
          "execution_count": 26,
          "metadata": {},
          "output_type": "execute_result"
        }
      ],
      "source": [
        "irreducible(matrix)"
      ]
    },
    {
      "cell_type": "code",
      "execution_count": null,
      "metadata": {
        "id": "8IB_lmXKGDs8"
      },
      "outputs": [],
      "source": [
        "class FNO2d(nn.Module):\n",
        "    def __init__(self,\n",
        "                 modes1,\n",
        "                 modes2,\n",
        "                 width,\n",
        "                 in_channels=1,\n",
        "                 out_channels=1,\n",
        "                 n_blocks = 4,\n",
        "                 add_mlp=False):\n",
        "\n",
        "        super(FNO2d, self).__init__()\n",
        "        self.modes1 = modes1\n",
        "        self.modes2 = modes2\n",
        "        self.width = width\n",
        "        self.add_mlp = add_mlp\n",
        "        self.n_blocks = n_blocks\n",
        "        self.in_channels = in_channels\n",
        "        self.out_channels = out_channels\n",
        "        self.padding = 9\n",
        "\n",
        "        self.p = nn.Linear(self.in_channels + 2, self.width)\n",
        "\n",
        "        self.fno_blocks = nn.ModuleList([FNOBlock2d(self.width, self.modes1, self.modes2, self.add_mlp)\n",
        "                                         for i in range(self.n_blocks)])\n",
        "\n",
        "        self.q = MLP2d(self.width, self.out_channels, self.width * 4)\n",
        "\n",
        "    def forward(self, x, grid=None, **kwargs):\n",
        "        if grid == None:\n",
        "            grid = self.get_grid(x.shape, x.device)\n",
        "\n",
        "        x = torch.cat((x, grid), dim = -1)\n",
        "\n",
        "        x = self.p(x)\n",
        "        x = x.permute([0, 3, 1, 2])\n",
        "        x = F.pad(x, [0, self.padding, 0, self.padding])\n",
        "\n",
        "        for block in self.fno_blocks:\n",
        "            x = block(x)\n",
        "\n",
        "            # Is this required. I have added this.\n",
        "            x = F.gelu(x)\n",
        "\n",
        "        x = x[..., :-self.padding, :-self.padding]\n",
        "\n",
        "        x = self.q(x)\n",
        "        x = x.permute(0, 2, 3, 1)\n",
        "        return x\n",
        "\n",
        "    def get_grid(self, shape, device):\n",
        "        batchsize, size_x, size_y = shape[0], shape[1], shape[2]\n",
        "        gridx = torch.tensor(np.linspace(0, 1, size_x), dtype=torch.float)\n",
        "        gridx = gridx.reshape(1, size_x, 1, 1).repeat([batchsize, 1, size_y, 1])\n",
        "        gridy = torch.tensor(np.linspace(0, 1, size_y), dtype=torch.float)\n",
        "        gridy = gridy.reshape(1, 1, size_y, 1).repeat([batchsize, size_x, 1, 1])\n",
        "        return torch.cat((gridx, gridy), dim=-1).to(device)"
      ]
    },
    {
      "cell_type": "markdown",
      "metadata": {
        "id": "UA22Oc2Q2N58"
      },
      "source": [
        "## Model Training"
      ]
    },
    {
      "cell_type": "code",
      "execution_count": null,
      "metadata": {
        "id": "C8nYdUYuOPVy"
      },
      "outputs": [],
      "source": [
        "model = FNO2d(\n",
        "    modes1=12,\n",
        "    modes2=12,\n",
        "    width=32,\n",
        "    in_channels=3,\n",
        "    out_channels=1,\n",
        "    n_blocks=4,\n",
        "    add_mlp=True)"
      ]
    },
    {
      "cell_type": "code",
      "execution_count": null,
      "metadata": {
        "colab": {
          "base_uri": "https://localhost:8080/"
        },
        "id": "t-Pbg1R8OQZW",
        "outputId": "78c1452b-555f-4536-9968-06e43c1ee4b1"
      },
      "outputs": [
        {
          "name": "stdout",
          "output_type": "stream",
          "text": [
            "torch.Size([2, 32, 32, 1])\n"
          ]
        }
      ],
      "source": [
        "input = torch.randn(2, 32, 32, 3)\n",
        "output = model(input)\n",
        "print(output.shape)"
      ]
    },
    {
      "cell_type": "code",
      "execution_count": null,
      "metadata": {
        "colab": {
          "base_uri": "https://localhost:8080/"
        },
        "id": "ScF32RFbkl5J",
        "outputId": "9e702200-4854-4292-96f3-daac1755ec92"
      },
      "outputs": [
        {
          "name": "stdout",
          "output_type": "stream",
          "text": [
            "torch.Size([32, 16, 16, 1])\n"
          ]
        }
      ],
      "source": [
        "input = next(iter(train_dataloader))[0]\n",
        "output = model(input)\n",
        "print(output.shape)"
      ]
    },
    {
      "cell_type": "code",
      "execution_count": null,
      "metadata": {
        "id": "D4CnO-M1k9d_"
      },
      "outputs": [],
      "source": [
        "optimizer = torch.optim.Adam(model.parameters(), lr=1e-3, weight_decay=1e-4)\n",
        "scheduler = torch.optim.lr_scheduler.CosineAnnealingLR(optimizer, T_max=30)"
      ]
    },
    {
      "cell_type": "code",
      "execution_count": null,
      "metadata": {
        "id": "SIihsboHk-ZG"
      },
      "outputs": [],
      "source": [
        "l2loss = LpLoss(d=2, p=2)\n",
        "h1loss = H1Loss(d=2)\n",
        "\n",
        "train_loss = h1loss\n",
        "eval_losses={'h1': h1loss, 'l2': l2loss}"
      ]
    },
    {
      "cell_type": "code",
      "execution_count": null,
      "metadata": {
        "id": "Vti-t82Yoiez"
      },
      "outputs": [],
      "source": [
        "epochs = 5\n",
        "batch_size = 32"
      ]
    },
    {
      "cell_type": "code",
      "execution_count": null,
      "metadata": {
        "colab": {
          "base_uri": "https://localhost:8080/",
          "height": 437
        },
        "id": "hjbGjwhTrHxL",
        "outputId": "42b667b2-da29-4843-9a9e-d88dbe02b6f1"
      },
      "outputs": [
        {
          "data": {
            "text/html": [
              "<button onClick=\"this.nextSibling.style.display='block';this.style.display='none';\">Display W&B run</button><iframe src='https://wandb.ai/rohantensor/Fourier%20Neural%20Operator/runs/3dsc7ftn?jupyter=true' style='border:none;width:100%;height:420px;display:none;'></iframe>"
            ],
            "text/plain": [
              "<wandb.sdk.wandb_run.Run at 0x7ccc68c4afd0>"
            ]
          },
          "execution_count": 202,
          "metadata": {},
          "output_type": "execute_result"
        }
      ],
      "source": [
        "wandb.init(project='Fourier Neural Operator', config={'learning_rate': 0.001, 'epochs': epochs, 'batch_size': 32})"
      ]
    },
    {
      "cell_type": "code",
      "execution_count": null,
      "metadata": {
        "id": "VdIMgQwPoYrw"
      },
      "outputs": [],
      "source": [
        "for epoch in range(epochs):\n",
        "    model.train()\n",
        "    train_loss = 0\n",
        "    for x, y in train_dataloader:\n",
        "        x, y = x.to(device), y.to(device)\n",
        "        batch_size = x.shape[0]\n",
        "\n",
        "        optimizer.zero_grad()\n",
        "\n",
        "        output = model(x)\n",
        "\n",
        "        loss = l2loss(output.reshape(batch_size, -1), y.reshape(batch_size, -1))\n",
        "\n",
        "        loss.backward()\n",
        "        optimizer.step()\n",
        "\n",
        "        train_loss += loss.item()\n",
        "        scheduler.step()\n",
        "\n",
        "    model.eval()\n",
        "    val_loss = 0\n",
        "\n",
        "    with torch.no_grad():\n",
        "        for x_val, y_val in test_dataloader:\n",
        "            x_val, y_val = x_val.to(device), y_val.to(device)\n",
        "\n",
        "            output_val = model(x)\n",
        "\n",
        "            final_loss = l2loss(output_val.reshape(batch_size, -1), y.reshape(batch_size, -1))\n",
        "\n",
        "            val_loss += final_loss.item()\n",
        "\n",
        "    total_train_loss = train_loss / (len(train_dataloader) * batch_size)\n",
        "    total_val_loss = val_loss / (len(test_dataloader) * batch_size)\n",
        "    wandb.log({'train_loss': total_train_loss, 'val_loss': total_val_loss, 'epoch': epoch})"
      ]
    },
    {
      "cell_type": "markdown",
      "metadata": {
        "id": "OFQbHbHN22YH"
      },
      "source": [
        "## $ω$ using Darcy-Flow"
      ]
    },
    {
      "cell_type": "code",
      "execution_count": null,
      "metadata": {
        "colab": {
          "base_uri": "https://localhost:8080/"
        },
        "id": "kOqVKTn92bxn",
        "outputId": "d92e6089-c529-4a73-ad93-f5d9134a2b13"
      },
      "outputs": [
        {
          "name": "stdout",
          "output_type": "stream",
          "text": [
            "torch.Size([1000, 2, 16, 16])\n"
          ]
        }
      ],
      "source": [
        "all_x, all_y = zip(*[batch.values() for batch in train_loader])\n",
        "x = torch.cat(all_x, dim=0)\n",
        "y = torch.cat(all_y, dim=0)\n",
        "combined = torch.cat([x, y], dim=1)\n",
        "print(combined.shape)"
      ]
    },
    {
      "cell_type": "code",
      "execution_count": null,
      "metadata": {
        "id": "iRCP96Rb27pV"
      },
      "outputs": [],
      "source": [
        "# Reference notebook\n",
        "# y = torch.Size([64, 512, 25, 1])  # (B, s, t) -> (B, t, s)\n",
        "# We will find the resolution across s"
      ]
    },
    {
      "cell_type": "code",
      "execution_count": null,
      "metadata": {
        "colab": {
          "base_uri": "https://localhost:8080/"
        },
        "id": "K-eGRmcB85Ps",
        "outputId": "fd0c6b0f-0f5d-4829-be72-abe5ab43ea6e"
      },
      "outputs": [
        {
          "name": "stdout",
          "output_type": "stream",
          "text": [
            "torch.Size([2000, 16, 16])\n",
            "torch.Size([2000, 16, 9])\n",
            "Resolution 2: 0.5049359798431396\n",
            "Resolution 4: 0.31851351261138916\n",
            "Resolution 8: 0.15529906749725342\n",
            "Resolution 16: 0.018650341778993607\n",
            "Resolution 32: 0.0\n",
            "Resolution 64: 0.0\n",
            "Resolution 128: 0.0\n",
            "Resolution 256: 0.0\n"
          ]
        }
      ],
      "source": [
        "# Calculate FFT and omega\n",
        "RESOLUTIONS = [2, 4, 8, 16, 32, 64, 128, 256]\n",
        "y_ = rearrange(combined, 'b t s1 s2 -> (b t) s1 s2')\n",
        "yf = torch.fft.rfft2(y_, dim = (-2, -1))\n",
        "\n",
        "total_amp = torch.abs(yf).sum()\n",
        "\n",
        "omegas = []\n",
        "for res in RESOLUTIONS:\n",
        "   unobserved = torch.abs(yf[:, res//2:, res//2:]).sum()\n",
        "   omega = (unobserved / total_amp).mean()\n",
        "\n",
        "   print(f'Resolution {res}: {omega}')\n",
        "   omegas.append(omega.item())"
      ]
    },
    {
      "cell_type": "code",
      "execution_count": null,
      "metadata": {
        "colab": {
          "base_uri": "https://localhost:8080/",
          "height": 449
        },
        "id": "vl_MJjN6EWvJ",
        "outputId": "93c4ee0b-8dcb-4537-9824-7ef999e5d3b2"
      },
      "outputs": [
        {
          "data": {
            "image/png": "[encoded data removed]",
            "text/plain": [
              "<Figure size 640x480 with 1 Axes>"
            ]
          },
          "metadata": {},
          "output_type": "display_data"
        }
      ],
      "source": [
        "plt.scatter(RESOLUTIONS, omegas,c = 'blue', alpha = 0.8)\n",
        "plt.xlabel('Resolution')\n",
        "plt.ylabel('Omega')\n",
        "plt.show()"
      ]
    },
    {
      "cell_type": "markdown",
      "metadata": {
        "id": "sHaUm_RZZEWj"
      },
      "source": [
        "## Extras"
      ]
    },
    {
      "cell_type": "code",
      "execution_count": null,
      "metadata": {
        "colab": {
          "base_uri": "https://localhost:8080/"
        },
        "id": "yK7gnnlFQdhq",
        "outputId": "235f73a9-6e32-48a4-d611-cb2ae45e1093"
      },
      "outputs": [
        {
          "name": "stdout",
          "output_type": "stream",
          "text": [
            "tensor([[0.3625+0.0797j, 0.9760+0.4519j],\n",
            "        [0.3372+0.0865j, 0.7794+0.6300j]])\n"
          ]
        }
      ],
      "source": [
        "print(torch.rand(2, 2, dtype = torch.cfloat))"
      ]
    },
    {
      "cell_type": "code",
      "execution_count": null,
      "metadata": {
        "colab": {
          "base_uri": "https://localhost:8080/"
        },
        "id": "aJ0cWqQHZBmC",
        "outputId": "4a4f6de7-0662-433a-803c-a65162c73bbb"
      },
      "outputs": [
        {
          "name": "stdout",
          "output_type": "stream",
          "text": [
            "torch.Size([2, 3, 32, 17])\n"
          ]
        }
      ],
      "source": [
        "B, H, W, C_in = 2, 32, 32, 3\n",
        "x = torch.randn(B, H, W, C_in)\n",
        "x = x.permute([0, 3, 1, 2])\n",
        "x_ft = torch.fft.rfft2(x)\n",
        "print(x_ft.shape)"
      ]
    },
    {
      "cell_type": "code",
      "execution_count": null,
      "metadata": {
        "colab": {
          "base_uri": "https://localhost:8080/"
        },
        "id": "mTAttQLzb_Z_",
        "outputId": "a47da0b3-117b-4586-e117-97c3f40d9c87"
      },
      "outputs": [
        {
          "name": "stdout",
          "output_type": "stream",
          "text": [
            "torch.Size([3, 3, 12, 12])\n"
          ]
        }
      ],
      "source": [
        "modes1 = 12\n",
        "modes2 = 12\n",
        "C_out = 3\n",
        "\n",
        "weights = torch.rand(C_in, C_out, modes1, modes2, dtype = torch.cfloat)\n",
        "print(weights.shape)"
      ]
    },
    {
      "cell_type": "code",
      "execution_count": null,
      "metadata": {
        "id": "zaxX6MrSclkM"
      },
      "outputs": [],
      "source": [
        "def complmul_2d(input, weights):\n",
        "    return torch.einsum('bixy, ioxy -> boxy', input, weights)"
      ]
    },
    {
      "cell_type": "code",
      "execution_count": null,
      "metadata": {
        "colab": {
          "base_uri": "https://localhost:8080/"
        },
        "id": "9Dx4gehaZVEM",
        "outputId": "fa5ce73f-5696-4670-9ac1-205e162c34f5"
      },
      "outputs": [
        {
          "name": "stdout",
          "output_type": "stream",
          "text": [
            "torch.Size([2, 3, 12, 12])\n"
          ]
        }
      ],
      "source": [
        "output = complmul_2d(x_ft[:, :, :modes1, :modes2], weights)\n",
        "print(output.shape)"
      ]
    },
    {
      "cell_type": "code",
      "execution_count": null,
      "metadata": {
        "colab": {
          "base_uri": "https://localhost:8080/"
        },
        "id": "W8fosk4JcaSo",
        "outputId": "aea0e003-691e-4873-c51f-39784d06e029"
      },
      "outputs": [
        {
          "name": "stdout",
          "output_type": "stream",
          "text": [
            "torch.Size([2, 32, 32, 2])\n"
          ]
        }
      ],
      "source": [
        "grid = model.get_grid(shape = [B, H, W], device = 'cpu')\n",
        "print(grid.shape)"
      ]
    },
    {
      "cell_type": "code",
      "execution_count": null,
      "metadata": {
        "colab": {
          "base_uri": "https://localhost:8080/"
        },
        "id": "p8I34VU7eLzo",
        "outputId": "69270030-6095-4a7b-c922-7b6e8025c264"
      },
      "outputs": [
        {
          "name": "stdout",
          "output_type": "stream",
          "text": [
            "torch.Size([2, 32, 32, 5])\n"
          ]
        }
      ],
      "source": [
        "x = torch.randn(B, H, W, C_in)\n",
        "x_mesh = torch.cat((x, grid), dim = -1)\n",
        "print(x_mesh.shape)"
      ]
    },
    {
      "cell_type": "code",
      "execution_count": null,
      "metadata": {
        "colab": {
          "base_uri": "https://localhost:8080/"
        },
        "id": "7iK5jauLeUc_",
        "outputId": "29c230a5-77aa-46cf-a9c3-7136ced7f053"
      },
      "outputs": [
        {
          "name": "stdout",
          "output_type": "stream",
          "text": [
            "torch.Size([2, 3, 41, 41])\n"
          ]
        }
      ],
      "source": [
        "x = torch.randn(B, H, W, C_in)\n",
        "x = x.permute([0, 3, 1, 2])\n",
        "x = F.pad(x, [0, 9, 0, 9])\n",
        "print(x.shape)"
      ]
    },
    {
      "cell_type": "code",
      "execution_count": null,
      "metadata": {
        "id": "k7Fia1CYTaH2"
      },
      "outputs": [],
      "source": []
    }
  ],
  "metadata": {
    "colab": {
      "collapsed_sections": [
        "kTfhcyKvszj0",
        "OFQbHbHN22YH",
        "sHaUm_RZZEWj"
      ],
      "provenance": []
    },
    "kernelspec": {
      "display_name": "Python 3",
      "name": "python3"
    },
    "language_info": {
      "codemirror_mode": {
        "name": "ipython",
        "version": 3
      },
      "file_extension": ".py",
      "mimetype": "text/x-python",
      "name": "python",
      "nbconvert_exporter": "python",
      "pygments_lexer": "ipython3",
      "version": "3.13.2"
    }
  },
  "nbformat": 4,
  "nbformat_minor": 0
}
