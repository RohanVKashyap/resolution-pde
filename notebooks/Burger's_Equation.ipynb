{
  "cells": [
    {
      "cell_type": "markdown",
      "metadata": {
        "id": "G8CO-IQhPw3-"
      },
      "source": [
        "## Convolution in the Fourier Space is called Spectral Convolution. The higher modes contains the global information. The lower modes refer to smaller frequencies.\n",
        "## The FNO Block: $b = activation(ã + Conv_{1 * 1}(a))$"
      ]
    },
    {
      "cell_type": "code",
      "execution_count": null,
      "metadata": {
        "id": "ugV3_OWrPtbi"
      },
      "outputs": [],
      "source": [
        "import torch\n",
        "import torch.nn as nn\n",
        "import torch.nn.functional as F\n",
        "import numpy as np\n",
        "import matplotlib.pyplot as plt\n",
        "from typing import Callable, List\n",
        "from timeit import default_timer\n",
        "import scipy"
      ]
    },
    {
      "cell_type": "code",
      "execution_count": 2,
      "metadata": {
        "colab": {
          "base_uri": "https://localhost:8080/"
        },
        "id": "Ik9WJJcCTwMU",
        "outputId": "72727714-db7d-4aab-cd22-0c2fdfabfad0"
      },
      "outputs": [
        {
          "name": "stdout",
          "output_type": "stream",
          "text": [
            "--2025-03-02 00:19:39--  https://ssd.mathworks.com/supportfiles/nnet/data/burgers1d/burgers_data_R10.mat\n",
            "Resolving ssd.mathworks.com (ssd.mathworks.com)... 23.61.183.122\n",
            "Connecting to ssd.mathworks.com (ssd.mathworks.com)|23.61.183.122|:443... connected.\n",
            "HTTP request sent, awaiting response... 200 OK\n",
            "Length: 644427710 (615M) [text/plain]\n",
            "Saving to: ‘burgers_data_R10.mat’\n",
            "\n",
            "burgers_data_R10.ma 100%[===================>] 614.57M  4.09MB/s    in 2m 35s  \n",
            "\n",
            "2025-03-02 00:22:15 (3.98 MB/s) - ‘burgers_data_R10.mat’ saved [644427710/644427710]\n",
            "\n"
          ]
        }
      ],
      "source": [
        "!wget https://ssd.mathworks.com/supportfiles/nnet/data/burgers1d/burgers_data_R10.mat"
      ]
    },
    {
      "cell_type": "code",
      "execution_count": 3,
      "metadata": {},
      "outputs": [
        {
          "ename": "MemoryError",
          "evalue": "Unable to allocate 7.67 GiB for an array with shape (2058240000,) and data type float32",
          "output_type": "error",
          "traceback": [
            "\u001b[0;31m---------------------------------------------------------------------------\u001b[0m",
            "\u001b[0;31mMemoryError\u001b[0m                               Traceback (most recent call last)",
            "Cell \u001b[0;32mIn[3], line 2\u001b[0m\n\u001b[1;32m      1\u001b[0m \u001b[38;5;28;01mimport\u001b[39;00m\u001b[38;5;250m \u001b[39m\u001b[38;5;21;01mnumpy\u001b[39;00m\u001b[38;5;250m \u001b[39m\u001b[38;5;28;01mas\u001b[39;00m\u001b[38;5;250m \u001b[39m\u001b[38;5;21;01mnp\u001b[39;00m\n\u001b[0;32m----> 2\u001b[0m data1 \u001b[38;5;241m=\u001b[39m \u001b[43mnp\u001b[49m\u001b[38;5;241;43m.\u001b[39;49m\u001b[43mload\u001b[49m\u001b[43m(\u001b[49m\u001b[38;5;124;43m'\u001b[39;49m\u001b[38;5;124;43m/home/rvk/1D_Burgers_Nu0.001/tensor.npy\u001b[39;49m\u001b[38;5;124;43m'\u001b[39;49m\u001b[43m)\u001b[49m\n\u001b[1;32m      3\u001b[0m \u001b[38;5;28mprint\u001b[39m(data1\u001b[38;5;241m.\u001b[39mshape)\n",
            "File \u001b[0;32m~/miniconda3/envs/pde/lib/python3.13/site-packages/numpy/lib/_npyio_impl.py:480\u001b[0m, in \u001b[0;36mload\u001b[0;34m(file, mmap_mode, allow_pickle, fix_imports, encoding, max_header_size)\u001b[0m\n\u001b[1;32m    477\u001b[0m         \u001b[38;5;28;01mreturn\u001b[39;00m \u001b[38;5;28mformat\u001b[39m\u001b[38;5;241m.\u001b[39mopen_memmap(file, mode\u001b[38;5;241m=\u001b[39mmmap_mode,\n\u001b[1;32m    478\u001b[0m                                   max_header_size\u001b[38;5;241m=\u001b[39mmax_header_size)\n\u001b[1;32m    479\u001b[0m     \u001b[38;5;28;01melse\u001b[39;00m:\n\u001b[0;32m--> 480\u001b[0m         \u001b[38;5;28;01mreturn\u001b[39;00m \u001b[38;5;28;43mformat\u001b[39;49m\u001b[38;5;241;43m.\u001b[39;49m\u001b[43mread_array\u001b[49m\u001b[43m(\u001b[49m\u001b[43mfid\u001b[49m\u001b[43m,\u001b[49m\u001b[43m \u001b[49m\u001b[43mallow_pickle\u001b[49m\u001b[38;5;241;43m=\u001b[39;49m\u001b[43mallow_pickle\u001b[49m\u001b[43m,\u001b[49m\n\u001b[1;32m    481\u001b[0m \u001b[43m                                 \u001b[49m\u001b[43mpickle_kwargs\u001b[49m\u001b[38;5;241;43m=\u001b[39;49m\u001b[43mpickle_kwargs\u001b[49m\u001b[43m,\u001b[49m\n\u001b[1;32m    482\u001b[0m \u001b[43m                                 \u001b[49m\u001b[43mmax_header_size\u001b[49m\u001b[38;5;241;43m=\u001b[39;49m\u001b[43mmax_header_size\u001b[49m\u001b[43m)\u001b[49m\n\u001b[1;32m    483\u001b[0m \u001b[38;5;28;01melse\u001b[39;00m:\n\u001b[1;32m    484\u001b[0m     \u001b[38;5;66;03m# Try a pickle\u001b[39;00m\n\u001b[1;32m    485\u001b[0m     \u001b[38;5;28;01mif\u001b[39;00m \u001b[38;5;129;01mnot\u001b[39;00m allow_pickle:\n",
            "File \u001b[0;32m~/miniconda3/envs/pde/lib/python3.13/site-packages/numpy/lib/format.py:829\u001b[0m, in \u001b[0;36mread_array\u001b[0;34m(fp, allow_pickle, pickle_kwargs, max_header_size)\u001b[0m\n\u001b[1;32m    826\u001b[0m \u001b[38;5;28;01melse\u001b[39;00m:\n\u001b[1;32m    827\u001b[0m     \u001b[38;5;28;01mif\u001b[39;00m isfileobj(fp):\n\u001b[1;32m    828\u001b[0m         \u001b[38;5;66;03m# We can use the fast fromfile() function.\u001b[39;00m\n\u001b[0;32m--> 829\u001b[0m         array \u001b[38;5;241m=\u001b[39m \u001b[43mnumpy\u001b[49m\u001b[38;5;241;43m.\u001b[39;49m\u001b[43mfromfile\u001b[49m\u001b[43m(\u001b[49m\u001b[43mfp\u001b[49m\u001b[43m,\u001b[49m\u001b[43m \u001b[49m\u001b[43mdtype\u001b[49m\u001b[38;5;241;43m=\u001b[39;49m\u001b[43mdtype\u001b[49m\u001b[43m,\u001b[49m\u001b[43m \u001b[49m\u001b[43mcount\u001b[49m\u001b[38;5;241;43m=\u001b[39;49m\u001b[43mcount\u001b[49m\u001b[43m)\u001b[49m\n\u001b[1;32m    830\u001b[0m     \u001b[38;5;28;01melse\u001b[39;00m:\n\u001b[1;32m    831\u001b[0m         \u001b[38;5;66;03m# This is not a real file. We have to read it the\u001b[39;00m\n\u001b[1;32m    832\u001b[0m         \u001b[38;5;66;03m# memory-intensive way.\u001b[39;00m\n\u001b[0;32m   (...)\u001b[0m\n\u001b[1;32m    840\u001b[0m         \u001b[38;5;66;03m# not correctly instantiate zero-width string dtypes; see\u001b[39;00m\n\u001b[1;32m    841\u001b[0m         \u001b[38;5;66;03m# https://github.com/numpy/numpy/pull/6430\u001b[39;00m\n\u001b[1;32m    842\u001b[0m         array \u001b[38;5;241m=\u001b[39m numpy\u001b[38;5;241m.\u001b[39mndarray(count, dtype\u001b[38;5;241m=\u001b[39mdtype)\n",
            "\u001b[0;31mMemoryError\u001b[0m: Unable to allocate 7.67 GiB for an array with shape (2058240000,) and data type float32"
          ]
        }
      ],
      "source": [
        "import numpy as np\n",
        "data1 = np.load('/home/rvk/1D_Burgers_Nu0.001/tensor.npy')\n",
        "print(data1.shape)"
      ]
    },
    {
      "cell_type": "code",
      "execution_count": 3,
      "metadata": {
        "id": "a80jo1tVUOxv"
      },
      "outputs": [],
      "source": [
        "data = scipy.io.loadmat('/content/burgers_data_R10.mat')"
      ]
    },
    {
      "cell_type": "code",
      "execution_count": 4,
      "metadata": {
        "colab": {
          "base_uri": "https://localhost:8080/"
        },
        "id": "XdpW3lZhUaOv",
        "outputId": "25ee2d69-de88-46a9-8d2d-7c5df2a1cf7e"
      },
      "outputs": [
        {
          "name": "stdout",
          "output_type": "stream",
          "text": [
            "dict_keys(['__header__', '__version__', '__globals__', 'a', 'a_smooth', 'a_smooth_x', 'a_x', 'u'])\n"
          ]
        }
      ],
      "source": [
        "print(data.keys())"
      ]
    },
    {
      "cell_type": "markdown",
      "metadata": {
        "id": "etkv3UW4XSkd"
      },
      "source": [
        "## The x-axis is corrected to go from 0 to 2 pi"
      ]
    },
    {
      "cell_type": "code",
      "execution_count": 34,
      "metadata": {
        "id": "p-NfxEW2hY84"
      },
      "outputs": [],
      "source": [
        "a, u = data['a'], data['u']"
      ]
    },
    {
      "cell_type": "code",
      "execution_count": 35,
      "metadata": {
        "id": "llXpHesYhe8M"
      },
      "outputs": [],
      "source": [
        "#Add Channel Dimension\n",
        "a = a[:, torch.newaxis, :]\n",
        "u = u[:, torch.newaxis, :]"
      ]
    },
    {
      "cell_type": "code",
      "execution_count": 36,
      "metadata": {
        "id": "rboJNEiDWEAA"
      },
      "outputs": [],
      "source": [
        "#Mesh is from 0 to 2 pi\n",
        "mesh = np.linspace(0, 2*np.pi, u.shape[-1])"
      ]
    },
    {
      "cell_type": "code",
      "execution_count": 37,
      "metadata": {
        "colab": {
          "base_uri": "https://localhost:8080/"
        },
        "id": "rjQ6HrebXIqM",
        "outputId": "bdf29f39-d296-4ba7-9719-e5e3130232da"
      },
      "outputs": [
        {
          "name": "stdout",
          "output_type": "stream",
          "text": [
            "[[0.83541104 0.83534205 0.83527089 ... 0.83560509 0.83554256 0.83547788]]\n"
          ]
        }
      ],
      "source": [
        "print(a[0][:10])"
      ]
    },
    {
      "cell_type": "code",
      "execution_count": 38,
      "metadata": {
        "colab": {
          "base_uri": "https://localhost:8080/",
          "height": 0
        },
        "id": "VYEOD76oVjTk",
        "outputId": "6a508b00-a1f5-4aa4-8a7e-538b04fd5718"
      },
      "outputs": [
        {
          "data": {
            "image/png": "[encoded data removed]",
            "text/plain": [
              "<Figure size 640x480 with 1 Axes>"
            ]
          },
          "metadata": {},
          "output_type": "display_data"
        }
      ],
      "source": [
        "plt.plot(mesh, a[0][0], color = 'green', label = 'Intial Conditions')\n",
        "plt.plot(mesh, u[0][0], color = 'blue', label = 'Final Conditions')\n",
        "plt.grid()\n",
        "plt.legend()\n",
        "plt.show()"
      ]
    },
    {
      "cell_type": "code",
      "execution_count": 39,
      "metadata": {
        "colab": {
          "base_uri": "https://localhost:8080/"
        },
        "id": "5t3IVKUhYNdJ",
        "outputId": "d9985b1e-b159-41b4-fc11-44d909195342"
      },
      "outputs": [
        {
          "name": "stdout",
          "output_type": "stream",
          "text": [
            "(2048, 1, 8192)\n"
          ]
        }
      ],
      "source": [
        "#Concatenate the mesh to a and u\n",
        "mesh_shape_corrected = np.repeat(mesh[np.newaxis, np.newaxis, :], u.shape[0], axis = 0)\n",
        "print(mesh_shape_corrected.shape)"
      ]
    },
    {
      "cell_type": "code",
      "execution_count": 40,
      "metadata": {
        "id": "1g3gZqgpYzfb"
      },
      "outputs": [],
      "source": [
        "assert mesh_shape_corrected[0].sum() == mesh_shape_corrected[1].sum()"
      ]
    },
    {
      "cell_type": "code",
      "execution_count": 41,
      "metadata": {
        "colab": {
          "base_uri": "https://localhost:8080/"
        },
        "id": "6VvopYv4YZO8",
        "outputId": "7263c302-2ed5-44c0-ca08-1a538d2c0f26"
      },
      "outputs": [
        {
          "name": "stdout",
          "output_type": "stream",
          "text": [
            "(8192,)\n"
          ]
        }
      ],
      "source": [
        "print(mesh.shape)"
      ]
    },
    {
      "cell_type": "code",
      "execution_count": 42,
      "metadata": {
        "colab": {
          "base_uri": "https://localhost:8080/"
        },
        "id": "4zO-OmMxYNa6",
        "outputId": "7b53a63c-a5e4-4fab-8a44-b7708805afa4"
      },
      "outputs": [
        {
          "name": "stdout",
          "output_type": "stream",
          "text": [
            "(2048, 1, 8192)\n"
          ]
        }
      ],
      "source": [
        "print(a.shape)"
      ]
    },
    {
      "cell_type": "code",
      "execution_count": 43,
      "metadata": {
        "colab": {
          "base_uri": "https://localhost:8080/"
        },
        "id": "2ofzgbrBYNYv",
        "outputId": "493b2c97-c407-417c-fb64-085035a9178d"
      },
      "outputs": [
        {
          "name": "stdout",
          "output_type": "stream",
          "text": [
            "(2048, 2, 8192)\n"
          ]
        }
      ],
      "source": [
        "a_with_mesh = np.concatenate((a, mesh_shape_corrected), axis = 1)  # axis = 1 is the channel axis for a\n",
        "print(a_with_mesh.shape)"
      ]
    },
    {
      "cell_type": "code",
      "execution_count": 44,
      "metadata": {
        "id": "KIIoSsuJZluF"
      },
      "outputs": [],
      "source": [
        "train_x, test_x = a_with_mesh[:1000], a_with_mesh[1000:1200]\n",
        "train_y, test_y = u[:1000], u[1000:1200]"
      ]
    },
    {
      "cell_type": "code",
      "execution_count": 45,
      "metadata": {
        "colab": {
          "base_uri": "https://localhost:8080/"
        },
        "id": "zCrqM16OCopd",
        "outputId": "a8c370c0-8f72-4a43-d765-976d9589b755"
      },
      "outputs": [
        {
          "name": "stdout",
          "output_type": "stream",
          "text": [
            "(1000, 2, 8192) (1000, 1, 8192)\n"
          ]
        }
      ],
      "source": [
        "print(train_x.shape, train_y.shape)"
      ]
    },
    {
      "cell_type": "code",
      "execution_count": 46,
      "metadata": {
        "colab": {
          "base_uri": "https://localhost:8080/"
        },
        "id": "BAh6mKT1ZlrW",
        "outputId": "4ba73c67-c9e3-45de-f68b-13423642e70f"
      },
      "outputs": [
        {
          "name": "stdout",
          "output_type": "stream",
          "text": [
            "(2, 4097)\n"
          ]
        }
      ],
      "source": [
        "print(np.fft.rfft(train_x[0]).shape)"
      ]
    },
    {
      "cell_type": "code",
      "execution_count": 47,
      "metadata": {
        "colab": {
          "base_uri": "https://localhost:8080/"
        },
        "id": "I-r5jzzmzKlb",
        "outputId": "dab7f8ca-8b05-4fe9-848b-838c2ab07ae3"
      },
      "outputs": [
        {
          "name": "stdout",
          "output_type": "stream",
          "text": [
            "tensor([[1.+0.j, 2.+1.j, 3.+0.j],\n",
            "        [4.+4.j, 5.+5.j, 6.+6.j]])\n"
          ]
        }
      ],
      "source": [
        "real_part = torch.tensor([[1.0, 2.0, 3.0], [4.0, 5.0, 6.0]])\n",
        "imaginary_part = torch.tensor([[0.0, 1.0, 0.0], [4.0, 5.0, 6.0]])\n",
        "complex_tensor = real_part + 1j * imaginary_part\n",
        "print(complex_tensor)"
      ]
    },
    {
      "cell_type": "markdown",
      "metadata": {
        "id": "6Wy__Fum9hOU"
      },
      "source": [
        "## Fourier Neural Operator"
      ]
    },
    {
      "cell_type": "code",
      "execution_count": 1,
      "metadata": {
        "id": "ClMrTVMpGgw7"
      },
      "outputs": [],
      "source": [
        "import torch\n",
        "import torch.nn as nn\n",
        "import torch.nn.functional as F\n",
        "import torch.optim as optim\n",
        "from torch.utils.data import DataLoader, TensorDataset\n",
        "import numpy as np\n",
        "import scipy.io\n",
        "import matplotlib.pyplot as plt\n",
        "from tqdm import tqdm\n",
        "import os"
      ]
    },
    {
      "cell_type": "code",
      "execution_count": 2,
      "metadata": {},
      "outputs": [],
      "source": [
        "import torch"
      ]
    },
    {
      "cell_type": "code",
      "execution_count": 1,
      "metadata": {
        "colab": {
          "base_uri": "https://localhost:8080/"
        },
        "id": "tj1HVfBU9vyG",
        "outputId": "549ab1dd-a01a-4294-9d6b-f2cb3606aeb1"
      },
      "outputs": [
        {
          "ename": "NameError",
          "evalue": "name 'torch' is not defined",
          "output_type": "error",
          "traceback": [
            "\u001b[0;31m---------------------------------------------------------------------------\u001b[0m",
            "\u001b[0;31mNameError\u001b[0m                                 Traceback (most recent call last)",
            "Cell \u001b[0;32mIn[1], line 1\u001b[0m\n\u001b[0;32m----> 1\u001b[0m device \u001b[38;5;241m=\u001b[39m \u001b[43mtorch\u001b[49m\u001b[38;5;241m.\u001b[39mdevice(\u001b[38;5;124m'\u001b[39m\u001b[38;5;124mcuda\u001b[39m\u001b[38;5;124m'\u001b[39m \u001b[38;5;28;01mif\u001b[39;00m torch\u001b[38;5;241m.\u001b[39mcuda\u001b[38;5;241m.\u001b[39mis_available() \u001b[38;5;28;01melse\u001b[39;00m \u001b[38;5;124m'\u001b[39m\u001b[38;5;124mcpu\u001b[39m\u001b[38;5;124m'\u001b[39m)\n\u001b[1;32m      2\u001b[0m \u001b[38;5;28mprint\u001b[39m(device)\n",
            "\u001b[0;31mNameError\u001b[0m: name 'torch' is not defined"
          ]
        }
      ],
      "source": [
        "device = torch.device('cuda' if torch.cuda.is_available() else 'cpu')\n",
        "print(device)"
      ]
    },
    {
      "cell_type": "code",
      "execution_count": 51,
      "metadata": {
        "id": "VXy-N02CO4-W"
      },
      "outputs": [],
      "source": [
        "# Load the data\n",
        "a, u = data[\"a\"], data[\"u\"]\n",
        "\n",
        "# Add channel dimension\n",
        "a = a[:, np.newaxis, :]\n",
        "u = u[:, np.newaxis, :]\n",
        "\n",
        "# Create mesh from 0 to 2π\n",
        "mesh = np.linspace(0, 2 * np.pi, u.shape[-1])\n",
        "mesh_shape_corrected = np.repeat(mesh[np.newaxis, np.newaxis, :], u.shape[0], axis=0)\n",
        "a_with_mesh = np.concatenate((a, mesh_shape_corrected), axis=1)\n",
        "\n",
        "# Prepare train/test split\n",
        "train_x, test_x = a_with_mesh[:1000], a_with_mesh[1000:1200]\n",
        "train_y, test_y = u[:1000], u[1000:1200]\n",
        "\n",
        "# Convert to PyTorch tensors\n",
        "train_x = torch.from_numpy(train_x).float().to(device)\n",
        "train_y = torch.from_numpy(train_y).float().to(device)\n",
        "test_x = torch.from_numpy(test_x).float().to(device)\n",
        "test_y = torch.from_numpy(test_y).float().to(device)"
      ]
    },
    {
      "cell_type": "code",
      "execution_count": 54,
      "metadata": {
        "colab": {
          "base_uri": "https://localhost:8080/"
        },
        "id": "rCU9lRw3O7w-",
        "outputId": "39bc28f7-2144-4fca-a84a-2aefdc571b26"
      },
      "outputs": [
        {
          "name": "stdout",
          "output_type": "stream",
          "text": [
            "torch.Size([1000, 2, 256]) torch.Size([1000, 1, 256])\n"
          ]
        }
      ],
      "source": [
        "downsample_factor = 32\n",
        "train_x_downsampled = train_x[..., ::downsample_factor]\n",
        "train_y_downsampled = train_y[..., ::downsample_factor]\n",
        "test_x_downsampled = test_x[..., ::downsample_factor]\n",
        "test_y_downsampled = test_y[..., ::downsample_factor]\n",
        "print(train_x_downsampled.shape, train_y_downsampled.shape)"
      ]
    },
    {
      "cell_type": "code",
      "execution_count": 55,
      "metadata": {
        "id": "bKTvZGpYO-TA"
      },
      "outputs": [],
      "source": [
        "train_dataset = TensorDataset(train_x_downsampled, train_y_downsampled)\n",
        "train_loader = DataLoader(train_dataset, batch_size=100, shuffle=True)"
      ]
    },
    {
      "cell_type": "code",
      "execution_count": 64,
      "metadata": {
        "id": "55mhRxKKPEVb"
      },
      "outputs": [],
      "source": [
        "class SpectralConv1d(nn.Module):\n",
        "  def __init__(self, in_channels, out_channels, modes1):\n",
        "    super(SpectralConv1d, self).__init__()\n",
        "\n",
        "    self.in_channels = in_channels\n",
        "    self.out_channels = out_channels\n",
        "    self.modes1 = modes1                 # Number of Fourier modes to multiply, at most floor(N/2) + 1\n",
        "\n",
        "    self.scale = (1 / (in_channels*out_channels))\n",
        "    self.weights1 = nn.Parameter(self.scale * torch.rand(in_channels, out_channels, self.modes1, dtype=torch.cfloat))\n",
        "\n",
        "  # Complex multiplication\n",
        "  def compl_mul1d(self, input, weights):\n",
        "    # (batch, in_channel, x ), (in_channel, out_channel, x) -> (batch, out_channel, x)\n",
        "    return torch.einsum(\"bix,iox->box\", input, weights)\n",
        "\n",
        "  def forward(self, x):\n",
        "    batchsize = x.shape[0]\n",
        "    x_ft = torch.fft.rfft(x)\n",
        "\n",
        "    out_ft = torch.zeros(\n",
        "        batchsize,\n",
        "        self.out_channels,\n",
        "        x.size(-1)//2 + 1,\n",
        "        device=x.device,\n",
        "        dtype=torch.cfloat)\n",
        "    out_ft[:, :, :self.modes1] = self.compl_mul1d(x_ft[:, :, :self.modes1],\n",
        "    self.weights1)\n",
        "\n",
        "    x = torch.fft.irfft(out_ft, n=x.size(-1))\n",
        "    return x"
      ]
    },
    {
      "cell_type": "code",
      "execution_count": 65,
      "metadata": {
        "id": "QW3fZRZ5PHdr"
      },
      "outputs": [],
      "source": [
        "class FNOBlock1d(nn.Module):\n",
        "    def __init__(self, in_channels, out_channels, modes, activation=F.relu):\n",
        "        super(FNOBlock1d, self).__init__()\n",
        "        self.spectral_conv = SpectralConv1d(in_channels, out_channels, modes)\n",
        "        self.bypass_conv = nn.Conv1d(in_channels, out_channels, 1)\n",
        "        self.activation = activation\n",
        "\n",
        "    def forward(self, x):\n",
        "        return self.activation(self.spectral_conv(x) + self.bypass_conv(x))"
      ]
    },
    {
      "cell_type": "code",
      "execution_count": 66,
      "metadata": {
        "id": "eKzo5R2zPJpy"
      },
      "outputs": [],
      "source": [
        "class FNO1d(nn.Module):\n",
        "    def __init__(self, in_channels, out_channels, modes, width, activation=F.relu, n_blocks=4):\n",
        "        super(FNO1d, self).__init__()\n",
        "        self.lifting = nn.Conv1d(in_channels, width, 1)\n",
        "\n",
        "        self.fno_blocks = nn.ModuleList([\n",
        "            FNOBlock1d(width, width, modes, activation) for _ in range(n_blocks)])\n",
        "\n",
        "        self.projection = nn.Conv1d(width, out_channels, 1)\n",
        "\n",
        "    def forward(self, x):\n",
        "        x = self.lifting(x)\n",
        "\n",
        "        for fno_block in self.fno_blocks:\n",
        "            x = fno_block(x)\n",
        "\n",
        "        x = self.projection(x)\n",
        "        return x"
      ]
    },
    {
      "cell_type": "code",
      "execution_count": 67,
      "metadata": {
        "id": "cWMouBHRPMTH"
      },
      "outputs": [],
      "source": [
        "model = FNO1d(\n",
        "    in_channels=2,\n",
        "    out_channels=1,\n",
        "    modes=16,\n",
        "    width=64,\n",
        "    n_blocks=4).to(device)"
      ]
    },
    {
      "cell_type": "code",
      "execution_count": 68,
      "metadata": {
        "collapsed": true,
        "id": "L4pbwzlE9WZh"
      },
      "outputs": [],
      "source": [
        "def train(model, train_loader, optimizer, epochs=200):\n",
        "    model.train()\n",
        "    loss_history = []\n",
        "    val_loss_history = []\n",
        "    l2_loss_history = []\n",
        "    h1_loss_history = []\n",
        "\n",
        "    for epoch in tqdm(range(epochs)):\n",
        "        epoch_loss = 0\n",
        "        for batch_x, batch_y in train_loader:\n",
        "            optimizer.zero_grad()\n",
        "\n",
        "            pred_y = model(batch_x)\n",
        "\n",
        "            # L2 loss (standard MSE)\n",
        "            l2_loss = F.mse_loss(pred_y, batch_y)\n",
        "\n",
        "            # H1 loss (Sobolev norm)\n",
        "            # Compute spatial gradients using finite differences\n",
        "            # For x-direction gradients (assuming the spatial dimension is the last dimension)\n",
        "            # Calculate dx spacing based on mesh\n",
        "            dx = torch.tensor(2 * np.pi / pred_y.shape[-1], device=device)\n",
        "\n",
        "            pred_grad_x = (pred_y[..., 1:] - pred_y[..., :-1]) / dx\n",
        "            target_grad_x = (batch_y[..., 1:] - batch_y[..., :-1]) / dx\n",
        "            grad_x_loss = F.mse_loss(pred_grad_x, target_grad_x)\n",
        "\n",
        "            # Combine L2 and H1 losses\n",
        "            # Using weights wx=wy=0.5 to balance function values and derivatives\n",
        "            wx = wy = 0.5\n",
        "            h1_loss = wx * wy * grad_x_loss\n",
        "            loss = l2_loss + h1_loss\n",
        "\n",
        "            # Track individual loss components\n",
        "            l2_loss_item = l2_loss.item()\n",
        "            h1_loss_item = h1_loss.item()\n",
        "\n",
        "            loss.backward()\n",
        "            optimizer.step()\n",
        "\n",
        "            epoch_loss += loss.item()\n",
        "\n",
        "        # Compute validation loss\n",
        "        model.eval()\n",
        "        with torch.no_grad():\n",
        "            val_pred = model(test_x_downsampled)\n",
        "\n",
        "            # Compute L2 validation loss\n",
        "            val_l2_loss = F.mse_loss(val_pred, test_y_downsampled)\n",
        "\n",
        "            # Compute H1 validation loss component\n",
        "            val_pred_grad_x = (val_pred[..., 1:] - val_pred[..., :-1])\n",
        "            val_target_grad_x = (test_y_downsampled[..., 1:] - test_y_downsampled[..., :-1])\n",
        "            val_grad_x_loss = F.mse_loss(val_pred_grad_x, val_target_grad_x)\n",
        "\n",
        "            # Combined validation loss\n",
        "            wx = wy = 0.5\n",
        "            val_h1_loss = wx * wy * val_grad_x_loss\n",
        "            val_loss = val_l2_loss + val_h1_loss\n",
        "            val_loss_history.append(val_loss.item())\n",
        "        model.train()\n",
        "\n",
        "        # Track epoch losses\n",
        "        loss_history.append(epoch_loss / len(train_loader))\n",
        "        l2_loss_history.append(l2_loss_item)\n",
        "        h1_loss_history.append(h1_loss_item)\n",
        "\n",
        "        if (epoch + 1) % 10 == 0:\n",
        "            print(f\"Epoch {epoch+1}/{epochs}, Total Loss: {loss_history[-1]:.6f}, \" +\n",
        "                  f\"L2 Loss: {l2_loss_item:.6f}, H1 Loss: {h1_loss_item:.6f}, \" +\n",
        "                  f\"Val Loss: {val_loss_history[-1]:.6f}\")\n",
        "\n",
        "    return loss_history, val_loss_history, l2_loss_history, h1_loss_history"
      ]
    },
    {
      "cell_type": "code",
      "execution_count": 69,
      "metadata": {
        "id": "h2II6G-9P3LF"
      },
      "outputs": [],
      "source": [
        "# Relative L2 norm error calculation\n",
        "def relative_l2_norm(pred, ref):\n",
        "    diff_norm = torch.norm(pred - ref)\n",
        "    ref_norm = torch.norm(ref)\n",
        "    return diff_norm / ref_norm"
      ]
    },
    {
      "cell_type": "code",
      "execution_count": 70,
      "metadata": {
        "colab": {
          "base_uri": "https://localhost:8080/"
        },
        "id": "lMt8PeBWP7ZX",
        "outputId": "f76b2abd-6b6f-49f9-b9a4-2a3489f944c5"
      },
      "outputs": [
        {
          "name": "stderr",
          "output_type": "stream",
          "text": [
            "  6%|▌         | 11/200 [00:01<00:20,  9.03it/s]"
          ]
        },
        {
          "name": "stdout",
          "output_type": "stream",
          "text": [
            "Epoch 10/200, Total Loss: 0.004946, L2 Loss: 0.000951, H1 Loss: 0.003312, Val Loss: 0.001036\n"
          ]
        },
        {
          "name": "stderr",
          "output_type": "stream",
          "text": [
            " 10%|█         | 21/200 [00:02<00:19,  9.15it/s]"
          ]
        },
        {
          "name": "stdout",
          "output_type": "stream",
          "text": [
            "Epoch 20/200, Total Loss: 0.001095, L2 Loss: 0.000160, H1 Loss: 0.000592, Val Loss: 0.000320\n"
          ]
        },
        {
          "name": "stderr",
          "output_type": "stream",
          "text": [
            " 16%|█▌        | 31/200 [00:03<00:20,  8.23it/s]"
          ]
        },
        {
          "name": "stdout",
          "output_type": "stream",
          "text": [
            "Epoch 30/200, Total Loss: 0.000565, L2 Loss: 0.000098, H1 Loss: 0.000363, Val Loss: 0.000175\n"
          ]
        },
        {
          "name": "stderr",
          "output_type": "stream",
          "text": [
            " 20%|██        | 41/200 [00:04<00:18,  8.43it/s]"
          ]
        },
        {
          "name": "stdout",
          "output_type": "stream",
          "text": [
            "Epoch 40/200, Total Loss: 0.000411, L2 Loss: 0.000105, H1 Loss: 0.000370, Val Loss: 0.000126\n"
          ]
        },
        {
          "name": "stderr",
          "output_type": "stream",
          "text": [
            " 26%|██▌       | 51/200 [00:05<00:16,  9.07it/s]"
          ]
        },
        {
          "name": "stdout",
          "output_type": "stream",
          "text": [
            "Epoch 50/200, Total Loss: 0.000286, L2 Loss: 0.000043, H1 Loss: 0.000252, Val Loss: 0.000098\n"
          ]
        },
        {
          "name": "stderr",
          "output_type": "stream",
          "text": [
            " 30%|███       | 61/200 [00:06<00:15,  9.10it/s]"
          ]
        },
        {
          "name": "stdout",
          "output_type": "stream",
          "text": [
            "Epoch 60/200, Total Loss: 0.000239, L2 Loss: 0.000048, H1 Loss: 0.000242, Val Loss: 0.000079\n"
          ]
        },
        {
          "name": "stderr",
          "output_type": "stream",
          "text": [
            " 36%|███▌      | 71/200 [00:08<00:14,  9.08it/s]"
          ]
        },
        {
          "name": "stdout",
          "output_type": "stream",
          "text": [
            "Epoch 70/200, Total Loss: 0.000205, L2 Loss: 0.000027, H1 Loss: 0.000174, Val Loss: 0.000075\n"
          ]
        },
        {
          "name": "stderr",
          "output_type": "stream",
          "text": [
            " 40%|████      | 81/200 [00:09<00:13,  9.04it/s]"
          ]
        },
        {
          "name": "stdout",
          "output_type": "stream",
          "text": [
            "Epoch 80/200, Total Loss: 0.000167, L2 Loss: 0.000028, H1 Loss: 0.000174, Val Loss: 0.000060\n"
          ]
        },
        {
          "name": "stderr",
          "output_type": "stream",
          "text": [
            " 46%|████▌     | 91/200 [00:10<00:11,  9.12it/s]"
          ]
        },
        {
          "name": "stdout",
          "output_type": "stream",
          "text": [
            "Epoch 90/200, Total Loss: 0.000177, L2 Loss: 0.000019, H1 Loss: 0.000139, Val Loss: 0.000062\n"
          ]
        },
        {
          "name": "stderr",
          "output_type": "stream",
          "text": [
            " 50%|█████     | 101/200 [00:11<00:10,  9.10it/s]"
          ]
        },
        {
          "name": "stdout",
          "output_type": "stream",
          "text": [
            "Epoch 100/200, Total Loss: 0.000138, L2 Loss: 0.000022, H1 Loss: 0.000141, Val Loss: 0.000060\n"
          ]
        },
        {
          "name": "stderr",
          "output_type": "stream",
          "text": [
            " 56%|█████▌    | 111/200 [00:12<00:09,  9.09it/s]"
          ]
        },
        {
          "name": "stdout",
          "output_type": "stream",
          "text": [
            "Epoch 110/200, Total Loss: 0.000143, L2 Loss: 0.000017, H1 Loss: 0.000115, Val Loss: 0.000051\n"
          ]
        },
        {
          "name": "stderr",
          "output_type": "stream",
          "text": [
            " 60%|██████    | 121/200 [00:13<00:08,  9.02it/s]"
          ]
        },
        {
          "name": "stdout",
          "output_type": "stream",
          "text": [
            "Epoch 120/200, Total Loss: 0.000424, L2 Loss: 0.000170, H1 Loss: 0.000331, Val Loss: 0.000361\n"
          ]
        },
        {
          "name": "stderr",
          "output_type": "stream",
          "text": [
            " 66%|██████▌   | 131/200 [00:14<00:07,  8.99it/s]"
          ]
        },
        {
          "name": "stdout",
          "output_type": "stream",
          "text": [
            "Epoch 130/200, Total Loss: 0.000232, L2 Loss: 0.000029, H1 Loss: 0.000127, Val Loss: 0.000065\n"
          ]
        },
        {
          "name": "stderr",
          "output_type": "stream",
          "text": [
            " 70%|███████   | 141/200 [00:15<00:07,  8.34it/s]"
          ]
        },
        {
          "name": "stdout",
          "output_type": "stream",
          "text": [
            "Epoch 140/200, Total Loss: 0.000169, L2 Loss: 0.000037, H1 Loss: 0.000174, Val Loss: 0.000056\n"
          ]
        },
        {
          "name": "stderr",
          "output_type": "stream",
          "text": [
            " 76%|███████▌  | 151/200 [00:17<00:05,  8.93it/s]"
          ]
        },
        {
          "name": "stdout",
          "output_type": "stream",
          "text": [
            "Epoch 150/200, Total Loss: 0.000096, L2 Loss: 0.000012, H1 Loss: 0.000087, Val Loss: 0.000043\n"
          ]
        },
        {
          "name": "stderr",
          "output_type": "stream",
          "text": [
            " 80%|████████  | 161/200 [00:18<00:04,  9.01it/s]"
          ]
        },
        {
          "name": "stdout",
          "output_type": "stream",
          "text": [
            "Epoch 160/200, Total Loss: 0.000096, L2 Loss: 0.000016, H1 Loss: 0.000099, Val Loss: 0.000050\n"
          ]
        },
        {
          "name": "stderr",
          "output_type": "stream",
          "text": [
            " 86%|████████▌ | 171/200 [00:19<00:03,  9.14it/s]"
          ]
        },
        {
          "name": "stdout",
          "output_type": "stream",
          "text": [
            "Epoch 170/200, Total Loss: 0.000100, L2 Loss: 0.000013, H1 Loss: 0.000075, Val Loss: 0.000047\n"
          ]
        },
        {
          "name": "stderr",
          "output_type": "stream",
          "text": [
            " 90%|█████████ | 181/200 [00:20<00:02,  9.07it/s]"
          ]
        },
        {
          "name": "stdout",
          "output_type": "stream",
          "text": [
            "Epoch 180/200, Total Loss: 0.000138, L2 Loss: 0.000038, H1 Loss: 0.000122, Val Loss: 0.000046\n"
          ]
        },
        {
          "name": "stderr",
          "output_type": "stream",
          "text": [
            " 96%|█████████▌| 191/200 [00:21<00:00,  9.05it/s]"
          ]
        },
        {
          "name": "stdout",
          "output_type": "stream",
          "text": [
            "Epoch 190/200, Total Loss: 0.000350, L2 Loss: 0.000094, H1 Loss: 0.000257, Val Loss: 0.000111\n"
          ]
        },
        {
          "name": "stderr",
          "output_type": "stream",
          "text": [
            "100%|██████████| 200/200 [00:22<00:00,  8.93it/s]"
          ]
        },
        {
          "name": "stdout",
          "output_type": "stream",
          "text": [
            "Epoch 200/200, Total Loss: 0.000139, L2 Loss: 0.000020, H1 Loss: 0.000116, Val Loss: 0.000055\n"
          ]
        },
        {
          "name": "stderr",
          "output_type": "stream",
          "text": [
            "\n"
          ]
        }
      ],
      "source": [
        "# Set up optimizer\n",
        "optimizer = optim.Adam(model.parameters(), lr=3e-4)\n",
        "\n",
        "# Train the model\n",
        "train_loss, val_loss, l2_loss_history, h1_loss_history = train(model, train_loader, optimizer)"
      ]
    },
    {
      "cell_type": "code",
      "execution_count": 72,
      "metadata": {
        "colab": {
          "base_uri": "https://localhost:8080/",
          "height": 329
        },
        "id": "RBTC81XUQD7P",
        "outputId": "345386b1-d57b-4f8f-c73f-64cc16377f5b"
      },
      "outputs": [
        {
          "name": "stdout",
          "output_type": "stream",
          "text": [
            "Mean Relative L2 Error: 0.013701\n"
          ]
        },
        {
          "data": {
            "image/png": "[encoded data removed]",
            "text/plain": [
              "<Figure size 1500x500 with 3 Axes>"
            ]
          },
          "metadata": {},
          "output_type": "display_data"
        }
      ],
      "source": [
        "# Evaluate on test data\n",
        "model.eval()\n",
        "with torch.no_grad():\n",
        "    test_pred = model(test_x)\n",
        "\n",
        "    # Calculate relative L2 error for each sample\n",
        "    rel_l2_errors = torch.zeros(test_y.shape[0])\n",
        "    for i in range(test_y.shape[0]):\n",
        "        rel_l2_errors[i] = relative_l2_norm(test_pred[i], test_y[i])\n",
        "\n",
        "    mean_error = rel_l2_errors.mean().item()\n",
        "    print(f\"Mean Relative L2 Error: {mean_error:.6f}\")\n",
        "\n",
        "# Visualize some predictions\n",
        "plt.figure(figsize=(15, 5))\n",
        "sample_idx = np.random.randint(0, test_x.shape[0], 3)\n",
        "x_axis = np.linspace(0, 2*np.pi, test_y.shape[-1])\n",
        "\n",
        "for i, idx in enumerate(sample_idx):\n",
        "    plt.subplot(1, 3, i+1)\n",
        "    plt.plot(x_axis, test_y[idx, 0].cpu().numpy(), 'b-', label='True')\n",
        "    plt.plot(x_axis, test_pred[idx, 0].cpu().numpy(), 'r--', label='Predicted')\n",
        "    plt.title(f'Sample {idx}')\n",
        "    plt.xlabel('x')\n",
        "    plt.ylabel('u(x)')\n",
        "    plt.legend()\n",
        "    plt.grid(True)\n",
        "\n",
        "plt.tight_layout()\n",
        "plt.savefig('fno_predictions.png')\n",
        "plt.show()"
      ]
    },
    {
      "cell_type": "code",
      "execution_count": 4,
      "metadata": {},
      "outputs": [
        {
          "name": "stdout",
          "output_type": "stream",
          "text": [
            "Collecting h5py\n",
            "  Downloading h5py-3.13.0-cp312-cp312-manylinux_2_17_x86_64.manylinux2014_x86_64.whl.metadata (2.5 kB)\n",
            "Requirement already satisfied: numpy>=1.19.3 in ./miniconda3/lib/python3.12/site-packages (from h5py) (2.2.3)\n",
            "Downloading h5py-3.13.0-cp312-cp312-manylinux_2_17_x86_64.manylinux2014_x86_64.whl (4.9 MB)\n",
            "\u001b[2K   \u001b[90m━━━━━━━━━━━━━━━━━━━━━━━━━━━━━━━━━━━━━━━━\u001b[0m \u001b[32m4.9/4.9 MB\u001b[0m \u001b[31m64.7 MB/s\u001b[0m eta \u001b[36m0:00:00\u001b[0m\n",
            "\u001b[?25hInstalling collected packages: h5py\n",
            "Successfully installed h5py-3.13.0\n"
          ]
        }
      ],
      "source": [
        "!pip3 install h5py"
      ]
    },
    {
      "cell_type": "code",
      "execution_count": 6,
      "metadata": {},
      "outputs": [
        {
          "name": "stdout",
          "output_type": "stream",
          "text": [
            "Saved nu with shape (10000, 128, 128)\n",
            "Dataset: nu\n",
            "  Shape: (10000, 128, 128)\n",
            "  Type: float32\n",
            "  Size: 163840000 elements\n",
            "\n",
            "Saved tensor with shape (10000, 1, 128, 128)\n",
            "Dataset: tensor\n",
            "  Shape: (10000, 1, 128, 128)\n",
            "  Type: float32\n",
            "  Size: 163840000 elements\n",
            "\n",
            "Saved x-coordinate with shape (128,)\n",
            "Dataset: x-coordinate\n",
            "  Shape: (128,)\n",
            "  Type: float32\n",
            "  Size: 128 elements\n",
            "\n",
            "Saved y-coordinate with shape (128,)\n",
            "Dataset: y-coordinate\n",
            "  Shape: (128,)\n",
            "  Type: float32\n",
            "  Size: 128 elements\n",
            "\n"
          ]
        }
      ],
      "source": [
        "import h5py\n",
        "import os\n",
        "import numpy as np\n",
        "\n",
        "os.makedirs('2D_DarcyFlow_beta0.1', exist_ok=True)\n",
        "\n",
        "with h5py.File('darcy_flow_data.h5', 'r') as f:\n",
        "    for key in f.keys():\n",
        "        data = f[key][()]\n",
        "        np.save(f'2D_DarcyFlow_beta0.1/{key}.npy', data)\n",
        "        print(f\"Saved {key} with shape {data.shape}\")\n",
        "        \n",
        "        print(f\"Dataset: {key}\")\n",
        "        print(f\"  Shape: {data.shape}\")\n",
        "        print(f\"  Type: {data.dtype}\")\n",
        "        print(f\"  Size: {data.size} elements\")\n",
        "        print()\n"
      ]
    },
    {
      "cell_type": "code",
      "execution_count": 71,
      "metadata": {
        "colab": {
          "base_uri": "https://localhost:8080/",
          "height": 486
        },
        "collapsed": true,
        "id": "uaYuq7AAP9tC",
        "outputId": "9f9c7a3a-a9f4-472f-c7d2-299195f5518c"
      },
      "outputs": [
        {
          "data": {
            "image/png": "[encoded data removed]",
            "text/plain": [
              "<Figure size 640x480 with 2 Axes>"
            ]
          },
          "metadata": {},
          "output_type": "display_data"
        }
      ],
      "source": [
        "# Plot 1: Overall losses\n",
        "plt.subplot(2, 1, 1)\n",
        "plt.plot(train_loss, label='Total Training Loss')\n",
        "plt.plot(val_loss, label='Validation Loss')\n",
        "plt.xlabel('Epoch')\n",
        "plt.ylabel('Loss')\n",
        "plt.title('Total Training and Validation Loss')\n",
        "plt.legend()\n",
        "plt.yscale('log')\n",
        "plt.grid(True)\n",
        "\n",
        "# Plot 2: Loss components\n",
        "plt.subplot(2, 1, 2)\n",
        "plt.plot(l2_loss_history, label='L2 Loss Component')\n",
        "plt.plot(h1_loss_history, label='H1 Loss Component')\n",
        "plt.xlabel('Epoch')\n",
        "plt.ylabel('Loss Component')\n",
        "plt.title('L2 and H1 Loss Components')\n",
        "plt.legend()\n",
        "plt.yscale('log')\n",
        "plt.grid(True)\n",
        "\n",
        "plt.tight_layout()\n",
        "plt.savefig('fno_loss_curve.png')\n",
        "plt.show()"
      ]
    },
    {
      "cell_type": "code",
      "execution_count": 13,
      "metadata": {
        "id": "Kx_X05kLE05U"
      },
      "outputs": [
        {
          "data": {
            "text/plain": [
              "'/home/rvk/CNO/CNO2d_original_version'"
            ]
          },
          "execution_count": 13,
          "metadata": {},
          "output_type": "execute_result"
        }
      ],
      "source": [
        "%pwd"
      ]
    },
    {
      "cell_type": "code",
      "execution_count": 15,
      "metadata": {},
      "outputs": [
        {
          "name": "stdout",
          "output_type": "stream",
          "text": [
            "/home/rvk\n"
          ]
        }
      ],
      "source": [
        "%cd .. "
      ]
    },
    {
      "cell_type": "code",
      "execution_count": 30,
      "metadata": {},
      "outputs": [
        {
          "data": {
            "text/plain": [
              "'/home/rvk'"
            ]
          },
          "execution_count": 30,
          "metadata": {},
          "output_type": "execute_result"
        }
      ],
      "source": [
        "%pwd"
      ]
    },
    {
      "cell_type": "code",
      "execution_count": 5,
      "metadata": {},
      "outputs": [
        {
          "name": "stdout",
          "output_type": "stream",
          "text": [
            "/home/rvk/CNO/CNO2d_original_version\n"
          ]
        }
      ],
      "source": [
        "%cd CNO/CNO2d_original_version"
      ]
    },
    {
      "cell_type": "code",
      "execution_count": 6,
      "metadata": {},
      "outputs": [
        {
          "name": "stdout",
          "output_type": "stream",
          "text": [
            "CNOModule.py                             \u001b[0m\u001b[01;34mProblems\u001b[0m/       readme.md\n",
            "Error_Distribution.py                    TrainCNO.py     \u001b[01;34mtorch_utils\u001b[0m/\n",
            "Error_Distribution_VaryingResolution.py  \u001b[01;34m__pycache__\u001b[0m/    \u001b[01;34mtraining\u001b[0m/\n",
            "LICENSE_NVIDIA.txt                       debug_tools.py\n",
            "ModelSelectionCNO.py                     \u001b[01;34mdnnlib\u001b[0m/\n"
          ]
        }
      ],
      "source": [
        "%ls"
      ]
    },
    {
      "cell_type": "code",
      "execution_count": null,
      "metadata": {},
      "outputs": [],
      "source": [
        "!pip3 install requests"
      ]
    },
    {
      "cell_type": "code",
      "execution_count": 29,
      "metadata": {},
      "outputs": [],
      "source": [
        "from CNOModule import CNOBlock, CNO"
      ]
    },
    {
      "cell_type": "code",
      "execution_count": 31,
      "metadata": {},
      "outputs": [],
      "source": [
        "from CNO.CNO2d_original_version.CNOModule import CNO"
      ]
    },
    {
      "cell_type": "code",
      "execution_count": 12,
      "metadata": {},
      "outputs": [],
      "source": [
        "import torch\n",
        "\n",
        "model = CNOBlock(\n",
        "    in_channels=3,      \n",
        "    out_channels=3,    \n",
        "    in_size=32,        \n",
        "    out_size=32,       \n",
        "    cutoff_den=2.0001,  \n",
        "    conv_kernel=3,      \n",
        "    filter_size=6,      # Filter size for anti-aliasing\n",
        "    batch_norm=True,   \n",
        "    activation='cno_lrelu'  \n",
        ")\n",
        "\n",
        "\n",
        "x = torch.randn(2, 3, 32, 32)  \n",
        "output = model(x)"
      ]
    },
    {
      "cell_type": "code",
      "execution_count": 32,
      "metadata": {},
      "outputs": [
        {
          "name": "stdout",
          "output_type": "stream",
          "text": [
            "Input shape: torch.Size([2, 3, 32, 32])\n",
            "Output shape: torch.Size([2, 3, 32, 32])\n",
            "Model parameters: 2,953,555\n"
          ]
        }
      ],
      "source": [
        "import torch\n",
        "\n",
        "# Create the full CNO model\n",
        "model = CNO(\n",
        "    in_dim=3,                    # Input channels (e.g., RGB or velocity components)\n",
        "    in_size=32,                  # Spatial resolution (32x32)\n",
        "    out_dim=3,                   # Output channels \n",
        "    out_size=1,                  # Keep same size as input (out_size=1 means out_size=in_size)\n",
        "    N_layers=3,                  # Number of down/up sampling layers\n",
        "    N_res=4,                     # Residual blocks per level\n",
        "    N_res_neck=6,                # Residual blocks in bottleneck\n",
        "    channel_multiplier=32,       # Channel growth factor\n",
        "    conv_kernel=3,\n",
        "    cutoff_den=2.0001,\n",
        "    filter_size=6,\n",
        "    lrelu_upsampling=2,\n",
        "    half_width_mult=0.8,\n",
        "    radial=False,\n",
        "    batch_norm=True,\n",
        "    expand_input=False,\n",
        "    latent_lift_proj_dim=64,\n",
        "    add_inv=True,\n",
        "    activation='cno_lrelu'\n",
        ").to('cpu')\n",
        "\n",
        "# Test with your data shape\n",
        "x = torch.randn(2, 3, 32, 32)  # [batch, channels, height, width]\n",
        "output = model(x)              # Should output [2, 3, 32, 32]\n",
        "\n",
        "print(f\"Input shape: {x.shape}\")\n",
        "print(f\"Output shape: {output.shape}\")\n",
        "print(f\"Model parameters: {model.get_n_params():,}\")"
      ]
    },
    {
      "cell_type": "code",
      "execution_count": 13,
      "metadata": {},
      "outputs": [
        {
          "name": "stdout",
          "output_type": "stream",
          "text": [
            "torch.Size([2, 3, 32, 32])\n"
          ]
        }
      ],
      "source": [
        "print(output.shape)"
      ]
    },
    {
      "cell_type": "code",
      "execution_count": 9,
      "metadata": {},
      "outputs": [
        {
          "name": "stdout",
          "output_type": "stream",
          "text": [
            "Success! Output shape: torch.Size([1, 3, 32, 32])\n"
          ]
        }
      ],
      "source": [
        "import torch\n",
        "\n",
        "\n",
        "model = CNO(\n",
        "    in_dim=3,\n",
        "    in_size=32,\n",
        "    out_dim=3,\n",
        "    N_layers=1,           # Minimal depth\n",
        "    N_res=1,              # Minimal residual blocks\n",
        "    N_res_neck=1,         # Minimal neck\n",
        "    channel_multiplier=8, # Small channels\n",
        "    activation='lrelu'    # Simpler activation\n",
        ").to('cpu')  # Force CPU\n",
        "\n",
        "x = torch.randn(1, 3, 32, 32)  # Single sample\n",
        "with torch.no_grad():  # No gradients for testing\n",
        "    output = model(x)\n",
        "    \n",
        "print(f\"Success! Output shape: {output.shape}\")"
      ]
    },
    {
      "cell_type": "code",
      "execution_count": null,
      "metadata": {},
      "outputs": [],
      "source": []
    }
  ],
  "metadata": {
    "accelerator": "GPU",
    "colab": {
      "collapsed_sections": [
        "G8CO-IQhPw3-",
        "etkv3UW4XSkd"
      ],
      "gpuType": "T4",
      "provenance": []
    },
    "kernelspec": {
      "display_name": "Python 3",
      "name": "python3"
    },
    "language_info": {
      "codemirror_mode": {
        "name": "ipython",
        "version": 3
      },
      "file_extension": ".py",
      "mimetype": "text/x-python",
      "name": "python",
      "nbconvert_exporter": "python",
      "pygments_lexer": "ipython3",
      "version": "3.13.2"
    }
  },
  "nbformat": 4,
  "nbformat_minor": 0
}
